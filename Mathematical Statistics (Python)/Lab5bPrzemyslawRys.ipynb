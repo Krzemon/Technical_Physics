{
 "cells": [
  {
   "cell_type": "code",
   "execution_count": 1,
   "id": "c6194aac",
   "metadata": {},
   "outputs": [],
   "source": [
    "import numpy as np\n",
    "import matplotlib.pyplot as plt\n",
    "import scipy.stats as stats\n",
    "import random as rand\n",
    "\n",
    "\n",
    "n = 100\n",
    "lamb = 2\n",
    "Cauch_0 = stats.cauchy.rvs(0,lamb,size = n)\n",
    "Cauch_0.sort()\n",
    "A_0 = Cauch_0[2]\n",
    "B_0 = Cauch_0[-3]\n",
    "W_0 = B_0 - A_0"
   ]
  },
  {
   "cell_type": "code",
   "execution_count": 2,
   "id": "9e48f21e",
   "metadata": {},
   "outputs": [
    {
     "data": {
      "text/plain": [
       "2.665310621242485"
      ]
     },
     "execution_count": 2,
     "metadata": {},
     "output_type": "execute_result"
    }
   ],
   "source": [
    "scale = np.linspace(0.01,5.01,500)\n",
    "L = np.zeros(500)\n",
    "for i in range(500):\n",
    "    pdf = stats.cauchy.pdf(Cauch_0,0,scale[i])\n",
    "    L[i] = np.prod(pdf)\n",
    "estymator = scale[np.argmax(L)]\n",
    "estymator"
   ]
  },
  {
   "cell_type": "code",
   "execution_count": 3,
   "id": "407b1d86",
   "metadata": {},
   "outputs": [
    {
     "name": "stderr",
     "output_type": "stream",
     "text": [
      "C:\\Users\\przem\\AppData\\Local\\Temp\\ipykernel_20024\\3079644540.py:1: RuntimeWarning: divide by zero encountered in log\n",
      "  dL = np.diff(np.log(L))\n"
     ]
    },
    {
     "data": {
      "text/plain": [
       "0.3823943245737906"
      ]
     },
     "execution_count": 3,
     "metadata": {},
     "output_type": "execute_result"
    }
   ],
   "source": [
    "dL = np.diff(np.log(L))\n",
    "dx = np.diff(scale)\n",
    "dLdx = dL/dx[0]\n",
    "dL2 = np.diff(dLdx)\n",
    "dL2d2x = dL2/dx[0]\n",
    "niepewnosc = np.sqrt(-1/dL2d2x[np.argmax(L)]) \n",
    "niepewnosc"
   ]
  },
  {
   "cell_type": "code",
   "execution_count": 4,
   "id": "88e10d3b",
   "metadata": {},
   "outputs": [],
   "source": [
    "import math as math\n",
    "\n",
    "x1 = estymator - 2*niepewnosc\n",
    "x2 = estymator + 2*niepewnosc\n",
    "n = 100\n",
    "M = 1000\n",
    "alpha = 0.32\n",
    "P1=[]\n",
    "P2=[]\n",
    "\n",
    "\n",
    "s = np.linspace(x1,x2,100) #krok niepewnosc/25 daje 100 wartosci miedzy x1 i x2\n",
    "for lam in range(n):\n",
    "    p1 = 0\n",
    "    p2 = 0\n",
    "    for monte in range(M):\n",
    "        Cauch = stats.cauchy.rvs(0,s[lam],size = n)\n",
    "        Cauch.sort()\n",
    "        A = Cauch[2]\n",
    "        B = Cauch[-3]\n",
    "        W = B - A\n",
    "        if W < W_0:\n",
    "            p1 = p1+1\n",
    "        else:\n",
    "            p2 = p2+1\n",
    "    P1.append(p1/M)\n",
    "    P2.append(p2/M) "
   ]
  },
  {
   "cell_type": "code",
   "execution_count": 5,
   "id": "347ed6ce",
   "metadata": {},
   "outputs": [
    {
     "data": {
      "image/png": "[encoded data removed]",
      "text/plain": [
       "<Figure size 432x288 with 1 Axes>"
      ]
     },
     "metadata": {
      "needs_background": "light"
     },
     "output_type": "display_data"
    }
   ],
   "source": [
    "\n",
    "plt.plot(s, P1, label = 'P(W > W0)')\n",
    "plt.plot(s, [alpha] * len(s))\n",
    "plt.plot(s, [1 - alpha] * len(s))\n",
    "plt.legend()\n",
    "plt.show()\n"
   ]
  },
  {
   "cell_type": "code",
   "execution_count": 6,
   "id": "5d9b4398",
   "metadata": {},
   "outputs": [
    {
     "name": "stdout",
     "output_type": "stream",
     "text": [
      "Estymator wartosci lambda policzony metoda najwiekszej wiarygodnosci wyniosl 2.67 gdzie jego prawdziwa wartosc to 2, a jego dolne ograniczenie niepewnosci to 0.38.\n",
      "Referencyjna wartosc roznic wyniosla W0 = 69.04\n",
      "\n",
      "Przedzial ufnosci (1 - alfa = 0.68), dla estymatora wartosci lambda:\n",
      "Dla W > W0 wynosi [1.90, 3.43]\n"
     ]
    }
   ],
   "source": [
    "w_1 = None\n",
    "w_2 = None\n",
    "\n",
    "m_1 = None\n",
    "m_2 = None\n",
    "\n",
    "test = 0\n",
    "\n",
    "for v in range(int(len(s)/2)):\n",
    "    if w_1 == None and P1[v] <= 1 - alpha/2:\n",
    "        w_1 = s[v]\n",
    "        test += 1\n",
    "\n",
    "    if m_1 == None and P1[n - v - 1] >= alpha/2:\n",
    "        m_1 = s[n - v - 1]\n",
    "        test += 1\n",
    "\n",
    "    if w_2 == None and P2[v] <= alpha/2:\n",
    "        w_2 = s[v]\n",
    "        test += 1\n",
    "\n",
    "    if m_2 == None and P2[n - v - 1] >= 1 - alpha/2:\n",
    "        m_2 = s[n - v - 1]\n",
    "        test += 1\n",
    "\n",
    "    if test == 4:\n",
    "        break\n",
    "\n",
    "if w_1 == None:\n",
    "    w_1 = estymator - 2 * niepewnosc\n",
    "\n",
    "if m_1 == None:\n",
    "    m_1 = estymator + 2 * niepewnosc\n",
    "\n",
    "if w_2 == None:\n",
    "    w_2 = estymator - 2 * niepewnosc\n",
    "\n",
    "if m_2 == None:\n",
    "    m_2 = estymator + 2 * niepewnosc\n",
    "\n",
    "print('Estymator wartosci lambda policzony metoda najwiekszej wiarygodnosci wyniosl {0:1.2f} gdzie jego prawdziwa wartosc to {1:1.0f}, a jego dolne ograniczenie niepewnosci to {2:1.2f}.'.format(estymator, lamb, niepewnosc))\n",
    "print('Referencyjna wartosc roznic wyniosla W0 = {0:4.2f}\\n'.format(W_0))\n",
    "\n",
    "print('Przedzial ufnosci (1 - alfa = {0:1.2f}), dla estymatora wartosci lambda:'.format(1-alpha))\n",
    "print('Dla W > W0 wynosi [{0:4.2f}, {1:4.2f}]'.format(w_1, m_1))      \n"
   ]
  },
  {
   "cell_type": "code",
   "execution_count": null,
   "id": "b368720a",
   "metadata": {},
   "outputs": [],
   "source": []
  },
  {
   "cell_type": "code",
   "execution_count": null,
   "id": "883e0736",
   "metadata": {},
   "outputs": [],
   "source": []
  }
 ],
 "metadata": {
  "kernelspec": {
   "display_name": "Python 3 (ipykernel)",
   "language": "python",
   "name": "python3"
  },
  "language_info": {
   "codemirror_mode": {
    "name": "ipython",
    "version": 3
   },
   "file_extension": ".py",
   "mimetype": "text/x-python",
   "name": "python",
   "nbconvert_exporter": "python",
   "pygments_lexer": "ipython3",
   "version": "3.9.12"
  }
 },
 "nbformat": 4,
 "nbformat_minor": 5
}
