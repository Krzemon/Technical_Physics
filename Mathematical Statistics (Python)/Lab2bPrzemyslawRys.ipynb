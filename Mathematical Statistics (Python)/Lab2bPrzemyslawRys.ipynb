{
 "cells": [
  {
   "cell_type": "code",
   "execution_count": 3,
   "id": "ccbce3f2",
   "metadata": {},
   "outputs": [
    {
     "data": {
      "text/plain": [
       "(array([0.55832296, 1.64306472, 2.41408214, 3.69024892, 4.32301494,\n",
       "        4.90792471, 4.59420038, 5.22696641, 4.86006846, 4.20071563,\n",
       "        3.65302739, 3.37652459, 2.86605788, 2.19075296, 1.50481332,\n",
       "        1.16981954, 0.81355632, 0.5530056 , 0.29245489, 0.18610765,\n",
       "        0.06380834, 0.05317362, 0.02126945, 0.        , 0.00531736,\n",
       "        0.00531736, 0.        , 0.        , 0.        , 0.        ]),\n",
       " array([0.        , 0.01880632, 0.03761264, 0.05641896, 0.07522528,\n",
       "        0.0940316 , 0.11283792, 0.13164424, 0.15045056, 0.16925688,\n",
       "        0.18806319, 0.20686951, 0.22567583, 0.24448215, 0.26328847,\n",
       "        0.28209479, 0.30090111, 0.31970743, 0.33851375, 0.35732007,\n",
       "        0.37612639, 0.39493271, 0.41373903, 0.43254535, 0.45135167,\n",
       "        0.47015799, 0.48896431, 0.50777063, 0.52657694, 0.54538326,\n",
       "        0.56418958]),\n",
       " [<matplotlib.patches.Polygon at 0x19fb324e8b0>])"
      ]
     },
     "execution_count": 3,
     "metadata": {},
     "output_type": "execute_result"
    },
    {
     "data": {
      "image/png": "[encoded data removed]",
      "text/plain": [
       "<Figure size 432x288 with 1 Axes>"
      ]
     },
     "metadata": {
      "needs_background": "light"
     },
     "output_type": "display_data"
    }
   ],
   "source": [
    "import numpy as np\n",
    "import matplotlib.pyplot as plt\n",
    "import scipy.stats as stats\n",
    "import math as math\n",
    "\n",
    "#Zadanie 1\n",
    "\n",
    "num_pkt = 10\n",
    "num_wsp = 2\n",
    "ile = 10000\n",
    "R = 1/math.sqrt(math.pi)\n",
    "a = []\n",
    "tab = []\n",
    "\n",
    "for k in range(ile):\n",
    "    c = 0\n",
    "    for i in range(1000000):\n",
    "        suma = 0\n",
    "        for j in range(num_wsp): \n",
    "            pkt = np.random.rand(num_wsp)\n",
    "            suma += pkt[j]*pkt[j]\n",
    "        if suma < 1:\n",
    "            c+=1\n",
    "        y = math.sqrt(suma)*R\n",
    "        tab.append(y)\n",
    "        if c==10:\n",
    "            break\n",
    "    tab.sort()\n",
    "    a.append(tab[0])\n",
    "    tab.clear()\n",
    "plt.hist(a,bins=30,range=(0,R),histtype='stepfilled', alpha=0.3, density=True)\n",
    "\n"
   ]
  },
  {
   "cell_type": "code",
   "execution_count": 2,
   "id": "80359b06",
   "metadata": {},
   "outputs": [
    {
     "data": {
      "text/plain": [
       "(array([0.0193439 , 0.10639147, 0.24663477, 0.76408419, 1.001047  ,\n",
       "        1.3830891 , 2.27774463, 2.58241111, 2.95961723, 3.71886544,\n",
       "        3.89296057, 4.35237828, 4.14926729, 4.31852644, 3.805913  ,\n",
       "        3.32715139, 2.84838978, 2.41315196, 1.62488789, 1.21866592,\n",
       "        0.69154455, 0.30950246, 0.22245489, 0.08221159, 0.03385183,\n",
       "        0.00967195, 0.        , 0.        , 0.        , 0.        ]),\n",
       " array([0.        , 0.02067835, 0.0413567 , 0.06203505, 0.0827134 ,\n",
       "        0.10339175, 0.1240701 , 0.14474845, 0.1654268 , 0.18610515,\n",
       "        0.2067835 , 0.22746185, 0.2481402 , 0.26881855, 0.2894969 ,\n",
       "        0.31017525, 0.3308536 , 0.35153194, 0.37221029, 0.39288864,\n",
       "        0.41356699, 0.43424534, 0.45492369, 0.47560204, 0.49628039,\n",
       "        0.51695874, 0.53763709, 0.55831544, 0.57899379, 0.59967214,\n",
       "        0.62035049]),\n",
       " [<matplotlib.patches.Polygon at 0x19fb3227460>])"
      ]
     },
     "execution_count": 2,
     "metadata": {},
     "output_type": "execute_result"
    },
    {
     "data": {
      "image/png": "[encoded data removed]",
      "text/plain": [
       "<Figure size 432x288 with 1 Axes>"
      ]
     },
     "metadata": {
      "needs_background": "light"
     },
     "output_type": "display_data"
    }
   ],
   "source": [
    "#Zadanie 2\n",
    "\n",
    "num_pkt = 10\n",
    "num_wsp = 3\n",
    "ile = 10000\n",
    "R = (3/(4*math.pi))**(1.0/3)\n",
    "a = []\n",
    "tab = []\n",
    "\n",
    "for k in range(ile):\n",
    "    c = 0\n",
    "    for i in range(1000000):\n",
    "        suma = 0\n",
    "        for j in range(num_wsp): \n",
    "            pkt = np.random.rand(num_wsp)\n",
    "            suma += pkt[j]*pkt[j]\n",
    "        if suma < 1:\n",
    "            c+=1\n",
    "        y = math.sqrt(suma)*R\n",
    "        tab.append(y)\n",
    "        if c==10:\n",
    "            break\n",
    "    tab.sort()\n",
    "    a.append(tab[0])\n",
    "    tab.clear()\n",
    "plt.hist(a,bins=30,range=(0,R),histtype='stepfilled', alpha=0.3, density=True)\n",
    "\n",
    "\n"
   ]
  },
  {
   "cell_type": "code",
   "execution_count": null,
   "id": "b94256c7",
   "metadata": {},
   "outputs": [],
   "source": []
  },
  {
   "cell_type": "code",
   "execution_count": null,
   "id": "508d908b",
   "metadata": {},
   "outputs": [],
   "source": []
  },
  {
   "cell_type": "code",
   "execution_count": null,
   "id": "980921bd",
   "metadata": {},
   "outputs": [],
   "source": []
  }
 ],
 "metadata": {
  "kernelspec": {
   "display_name": "Python 3 (ipykernel)",
   "language": "python",
   "name": "python3"
  },
  "language_info": {
   "codemirror_mode": {
    "name": "ipython",
    "version": 3
   },
   "file_extension": ".py",
   "mimetype": "text/x-python",
   "name": "python",
   "nbconvert_exporter": "python",
   "pygments_lexer": "ipython3",
   "version": "3.9.12"
  }
 },
 "nbformat": 4,
 "nbformat_minor": 5
}
