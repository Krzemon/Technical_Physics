{
 "cells": [
  {
   "cell_type": "code",
   "execution_count": 32,
   "id": "d66204fe",
   "metadata": {},
   "outputs": [
    {
     "data": {
      "text/plain": [
       "[1, 5, 6]"
      ]
     },
     "execution_count": 32,
     "metadata": {},
     "output_type": "execute_result"
    }
   ],
   "source": [
    "#PUNKT JEDEN\n",
    "import numpy as np\n",
    "import random as rd\n",
    "\n",
    "list = [1, 2, 3, 4, 5, 6, 7, 8, 9]\n",
    "suc = 0\n",
    "ilosc = 3\n",
    "\n",
    "wyn = rd.sample(list,ilosc)\n",
    "wyn\n"
   ]
  },
  {
   "cell_type": "code",
   "execution_count": 61,
   "id": "f55df1d2",
   "metadata": {},
   "outputs": [
    {
     "data": {
      "text/plain": [
       "0.16607"
      ]
     },
     "execution_count": 61,
     "metadata": {},
     "output_type": "execute_result"
    }
   ],
   "source": [
    "#PUNKT DWA\n",
    "\n",
    "list = [1, 2, 3, 4, 5, 6, 7, 8, 9]\n",
    "suc = 0\n",
    "ilosc = 3\n",
    "proby = 100000\n",
    "for i in range(proby):\n",
    "    k=0\n",
    "    wyn = rd.sample(list,ilosc)\n",
    "    for j in range(0,ilosc-1):\n",
    "        if wyn[j+1]>wyn[j]:\n",
    "            j\n",
    "        else:\n",
    "            k=+1\n",
    "            break\n",
    "    if k == 0:\n",
    "        suc += 1\n",
    "prawd = suc/proby\n",
    "prawd"
   ]
  },
  {
   "cell_type": "code",
   "execution_count": 140,
   "id": "b84a9560",
   "metadata": {},
   "outputs": [
    {
     "name": "stdout",
     "output_type": "stream",
     "text": [
      "Prawdopodobienstwo wynosi: 0.49843\n",
      "Prawdopodobienstwo wynosi: 0.16785\n",
      "Prawdopodobienstwo wynosi: 0.04086\n",
      "Prawdopodobienstwo wynosi: 0.00789\n",
      "Prawdopodobienstwo wynosi: 0.00147\n",
      "Prawdopodobienstwo wynosi: 0.00023\n",
      "Prawdopodobienstwo wynosi: 5e-05\n"
     ]
    },
    {
     "data": {
      "text/plain": [
       "[<matplotlib.lines.Line2D at 0x1bc4fb71880>]"
      ]
     },
     "execution_count": 140,
     "metadata": {},
     "output_type": "execute_result"
    },
    {
     "data": {
      "image/png": "[encoded data removed]",
      "text/plain": [
       "<Figure size 432x288 with 1 Axes>"
      ]
     },
     "metadata": {
      "needs_background": "light"
     },
     "output_type": "display_data"
    }
   ],
   "source": [
    "#PUNKT TRZY\n",
    "import matplotlib.pyplot as plt\n",
    "\n",
    "list = [1, 2, 3, 4, 5, 6, 7, 8, 9]\n",
    "\n",
    "p=[]\n",
    "for m in range(2,9):\n",
    "    suc = 0\n",
    "    ilosc = m\n",
    "    proby = 100000\n",
    "    for i in range(proby):\n",
    "        k=0\n",
    "        wyn = rd.sample(list,ilosc)\n",
    "        for j in range(0,ilosc-1):\n",
    "            if wyn[j+1]>wyn[j]:\n",
    "                j\n",
    "            else:\n",
    "                k=+1\n",
    "                break\n",
    "        if k == 0:\n",
    "            suc += 1\n",
    "    prawd = suc/proby\n",
    "    print('Prawdopodobienstwo wynosi: {0}'.format(prawd)) \n",
    "    p.append(prawd)\n",
    "plt.plot(p[:9])"
   ]
  },
  {
   "cell_type": "code",
   "execution_count": null,
   "id": "9375092b",
   "metadata": {},
   "outputs": [],
   "source": []
  },
  {
   "cell_type": "code",
   "execution_count": null,
   "id": "f1cf240e",
   "metadata": {},
   "outputs": [],
   "source": []
  },
  {
   "cell_type": "code",
   "execution_count": null,
   "id": "66910f32",
   "metadata": {},
   "outputs": [],
   "source": []
  },
  {
   "cell_type": "code",
   "execution_count": null,
   "id": "53d895e6",
   "metadata": {},
   "outputs": [],
   "source": []
  }
 ],
 "metadata": {
  "kernelspec": {
   "display_name": "Python 3 (ipykernel)",
   "language": "python",
   "name": "python3"
  },
  "language_info": {
   "codemirror_mode": {
    "name": "ipython",
    "version": 3
   },
   "file_extension": ".py",
   "mimetype": "text/x-python",
   "name": "python",
   "nbconvert_exporter": "python",
   "pygments_lexer": "ipython3",
   "version": "3.9.12"
  }
 },
 "nbformat": 4,
 "nbformat_minor": 5
}
