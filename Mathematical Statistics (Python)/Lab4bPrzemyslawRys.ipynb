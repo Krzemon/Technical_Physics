{
 "cells": [
  {
   "cell_type": "code",
   "execution_count": 23,
   "id": "f15b10a3",
   "metadata": {},
   "outputs": [],
   "source": [
    "import numpy as np\n",
    "import matplotlib.pyplot as plt\n",
    "import scipy.stats as stats\n",
    "import random as rand\n",
    "import math as math\n",
    "\n",
    "n = 50\n",
    "lamb = 2\n",
    "for i in range(n):\n",
    "    x = stats.cauchy.rvs(0,lamb,size = n)\n",
    "#plt.plot(x)\n"
   ]
  },
  {
   "cell_type": "code",
   "execution_count": 34,
   "id": "ffdea4b9",
   "metadata": {},
   "outputs": [
    {
     "data": {
      "text/plain": [
       "[<matplotlib.lines.Line2D at 0x7f0d23a8c790>]"
      ]
     },
     "execution_count": 34,
     "metadata": {},
     "output_type": "execute_result"
    },
    {
     "data": {
      "image/png": "[encoded data removed]",
      "text/plain": [
       "<Figure size 432x288 with 1 Axes>"
      ]
     },
     "metadata": {
      "needs_background": "light"
     },
     "output_type": "display_data"
    }
   ],
   "source": [
    "scale = np.linspace(0.01,5.01,500)\n",
    "L = np.zeros(500)\n",
    "for i in range(500):\n",
    "    pdf = stats.cauchy.pdf(x,0,scale[i])\n",
    "    L[i] = np.prod(pdf)\n",
    "plt.plot(scale,L)"
   ]
  },
  {
   "cell_type": "code",
   "execution_count": 25,
   "id": "c9f800f1",
   "metadata": {},
   "outputs": [
    {
     "data": {
      "text/plain": [
       "5.01"
      ]
     },
     "execution_count": 25,
     "metadata": {},
     "output_type": "execute_result"
    }
   ],
   "source": [
    "estymator = scale[np.argmax(L)]\n",
    "estymator"
   ]
  },
  {
   "cell_type": "code",
   "execution_count": 35,
   "id": "dbba8200",
   "metadata": {},
   "outputs": [
    {
     "data": {
      "text/plain": [
       "0.4391657119156125"
      ]
     },
     "execution_count": 35,
     "metadata": {},
     "output_type": "execute_result"
    }
   ],
   "source": [
    "dL = np.diff(np.log(L))\n",
    "dx = np.diff(scale)\n",
    "dLdx = dL/dx[0]   # pierwsza pochodna\n",
    "dL2 = np.diff(dLdx)\n",
    "dL2d2x = dL2/dx[0] # druga pochodna\n",
    "niepewnosc = np.sqrt(-1/dL2d2x[np.argmax(L)]) \n",
    "niepewnosc"
   ]
  },
  {
   "cell_type": "code",
   "execution_count": 37,
   "id": "fa493a82",
   "metadata": {},
   "outputs": [
    {
     "name": "stdout",
     "output_type": "stream",
     "text": [
      "Estymator metody największej wiarygodności 5.01, dolne ogranczenia na niepewność estymatora 0.44\n"
     ]
    }
   ],
   "source": [
    "print(('Estymator metody największej wiarygodności {0:4.2f}, dolne ogranczenia na niepewność estymatora {1:4.2f}'.format(estymator, niepewnosc)))"
   ]
  },
  {
   "cell_type": "code",
   "execution_count": 36,
   "id": "3a0a14fb",
   "metadata": {},
   "outputs": [
    {
     "data": {
      "text/plain": [
       "[<matplotlib.lines.Line2D at 0x7f0d23b5d160>]"
      ]
     },
     "execution_count": 36,
     "metadata": {},
     "output_type": "execute_result"
    },
    {
     "data": {
      "image/png": "[encoded data removed]",
      "text/plain": [
       "<Figure size 432x288 with 1 Axes>"
      ]
     },
     "metadata": {
      "needs_background": "light"
     },
     "output_type": "display_data"
    }
   ],
   "source": [
    "plt.ylim(np.max(np.log(L))-0.5, np.max(np.log(L))+0.1)\n",
    "plt.plot(scale,np.log(L))"
   ]
  },
  {
   "cell_type": "code",
   "execution_count": 41,
   "id": "0e2f6c42",
   "metadata": {},
   "outputs": [
    {
     "ename": "IndexError",
     "evalue": "list assignment index out of range",
     "output_type": "error",
     "traceback": [
      "\u001b[0;31m---------------------------------------------------------------------------\u001b[0m",
      "\u001b[0;31mIndexError\u001b[0m                                Traceback (most recent call last)",
      "\u001b[0;32m/tmp/ipykernel_2550/2067272814.py\u001b[0m in \u001b[0;36m<module>\u001b[0;34m\u001b[0m\n\u001b[1;32m     14\u001b[0m     \u001b[0mestymator\u001b[0m \u001b[0;34m=\u001b[0m \u001b[0mscale\u001b[0m\u001b[0;34m[\u001b[0m\u001b[0mnp\u001b[0m\u001b[0;34m.\u001b[0m\u001b[0margmax\u001b[0m\u001b[0;34m(\u001b[0m\u001b[0mL\u001b[0m\u001b[0;34m)\u001b[0m\u001b[0;34m]\u001b[0m\u001b[0;34m\u001b[0m\u001b[0;34m\u001b[0m\u001b[0m\n\u001b[1;32m     15\u001b[0m     \u001b[0mx\u001b[0m \u001b[0;34m=\u001b[0m \u001b[0mnp\u001b[0m\u001b[0;34m.\u001b[0m\u001b[0mmean\u001b[0m\u001b[0;34m(\u001b[0m\u001b[0mestymator\u001b[0m\u001b[0;34m)\u001b[0m\u001b[0;34m\u001b[0m\u001b[0;34m\u001b[0m\u001b[0m\n\u001b[0;32m---> 16\u001b[0;31m     \u001b[0mest\u001b[0m\u001b[0;34m[\u001b[0m\u001b[0mb\u001b[0m\u001b[0;34m]\u001b[0m\u001b[0;34m=\u001b[0m\u001b[0mx\u001b[0m\u001b[0;34m\u001b[0m\u001b[0;34m\u001b[0m\u001b[0m\n\u001b[0m\u001b[1;32m     17\u001b[0m     \u001b[0mdL\u001b[0m \u001b[0;34m=\u001b[0m \u001b[0mnp\u001b[0m\u001b[0;34m.\u001b[0m\u001b[0mdiff\u001b[0m\u001b[0;34m(\u001b[0m\u001b[0mnp\u001b[0m\u001b[0;34m.\u001b[0m\u001b[0mlog\u001b[0m\u001b[0;34m(\u001b[0m\u001b[0mL\u001b[0m\u001b[0;34m)\u001b[0m\u001b[0;34m)\u001b[0m\u001b[0;34m\u001b[0m\u001b[0;34m\u001b[0m\u001b[0m\n\u001b[1;32m     18\u001b[0m     \u001b[0mdx\u001b[0m \u001b[0;34m=\u001b[0m \u001b[0mnp\u001b[0m\u001b[0;34m.\u001b[0m\u001b[0mdiff\u001b[0m\u001b[0;34m(\u001b[0m\u001b[0mscale\u001b[0m\u001b[0;34m)\u001b[0m\u001b[0;34m\u001b[0m\u001b[0;34m\u001b[0m\u001b[0m\n",
      "\u001b[0;31mIndexError\u001b[0m: list assignment index out of range"
     ]
    }
   ],
   "source": [
    "m = 1000\n",
    "est = []\n",
    "niep = []\n",
    "for b in range(m):\n",
    "    n = 50\n",
    "    lamb = 2\n",
    "    for i in range(n):\n",
    "        x = stats.cauchy.rvs(0,lamb,size = n)\n",
    "    scale = np.linspace(0.01,5.01,500)\n",
    "    L = np.zeros(500)\n",
    "    for i in range(500):\n",
    "        pdf = stats.cauchy.pdf(x,0,scale[i])\n",
    "        L[i] = np.prod(pdf)\n",
    "    estymator = scale[np.argmax(L)]\n",
    "    x = np.mean(estymator)\n",
    "    est[b] = x\n",
    "    dL = np.diff(np.log(L))\n",
    "    dx = np.diff(scale)\n",
    "    dLdx = dL/dx[0]   # pierwsza pochodna\n",
    "    dL2 = np.diff(dLdx)\n",
    "    dL2d2x = dL2/dx[0] # druga pochodna\n",
    "    niepewnosc = np.sqrt(-1/dL2d2x[np.argmax(L)])\n",
    "    niep[b] = niepewnosc\n",
    "estymator_sredni = np.mean(est)\n",
    "niepewnosc_srednia = np.mean(niep)"
   ]
  },
  {
   "cell_type": "code",
   "execution_count": null,
   "id": "485e65c5",
   "metadata": {},
   "outputs": [],
   "source": []
  }
 ],
 "metadata": {
  "kernelspec": {
   "display_name": "Python 3 (ipykernel)",
   "language": "python",
   "name": "python3"
  },
  "language_info": {
   "codemirror_mode": {
    "name": "ipython",
    "version": 3
   },
   "file_extension": ".py",
   "mimetype": "text/x-python",
   "name": "python",
   "nbconvert_exporter": "python",
   "pygments_lexer": "ipython3",
   "version": "3.9.4"
  }
 },
 "nbformat": 4,
 "nbformat_minor": 5
}
