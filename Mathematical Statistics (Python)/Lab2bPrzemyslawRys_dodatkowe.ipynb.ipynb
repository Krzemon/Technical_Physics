{
 "cells": [
  {
   "cell_type": "code",
   "execution_count": 2,
   "id": "62d9ba31",
   "metadata": {},
   "outputs": [
    {
     "data": {
      "text/plain": [
       "(array([0.00000000e+00, 0.00000000e+00, 0.00000000e+00, 0.00000000e+00,\n",
       "        0.00000000e+00, 0.00000000e+00, 4.83597586e-03, 2.90158552e-02,\n",
       "        8.22115897e-02, 1.59587203e-01, 3.19174407e-01, 5.31957345e-01,\n",
       "        8.99491510e-01, 1.38308910e+00, 2.21004097e+00, 3.22559590e+00,\n",
       "        4.21697095e+00, 4.85531977e+00, 5.85153079e+00, 5.97243019e+00,\n",
       "        5.37276918e+00, 4.84081184e+00, 3.70435751e+00, 2.49052757e+00,\n",
       "        1.41694093e+00, 5.75481128e-01, 1.64423179e-01, 5.31957345e-02,\n",
       "        0.00000000e+00, 0.00000000e+00]),\n",
       " array([0.        , 0.02067835, 0.0413567 , 0.06203505, 0.0827134 ,\n",
       "        0.10339175, 0.1240701 , 0.14474845, 0.1654268 , 0.18610515,\n",
       "        0.2067835 , 0.22746185, 0.2481402 , 0.26881855, 0.2894969 ,\n",
       "        0.31017525, 0.3308536 , 0.35153194, 0.37221029, 0.39288864,\n",
       "        0.41356699, 0.43424534, 0.45492369, 0.47560204, 0.49628039,\n",
       "        0.51695874, 0.53763709, 0.55831544, 0.57899379, 0.59967214,\n",
       "        0.62035049]),\n",
       " [<matplotlib.patches.Polygon at 0x1bca4576910>])"
      ]
     },
     "execution_count": 2,
     "metadata": {},
     "output_type": "execute_result"
    },
    {
     "data": {
      "image/png": "[encoded data removed]",
      "text/plain": [
       "<Figure size 432x288 with 1 Axes>"
      ]
     },
     "metadata": {
      "needs_background": "light"
     },
     "output_type": "display_data"
    }
   ],
   "source": [
    "#Zadanie dodatkowe\n",
    "\n",
    "import numpy as np\n",
    "import matplotlib.pyplot as plt\n",
    "import scipy.stats as stats\n",
    "import math as math\n",
    "\n",
    "\n",
    "num_pkt = 10\n",
    "num_wsp = 3\n",
    "ile = 10000\n",
    "R = (3/(4*math.pi))**(1.0/3)\n",
    "a = []\n",
    "tab = []\n",
    "\n",
    "for k in range(ile):\n",
    "    c = 0\n",
    "    for i in range(1000000):\n",
    "        suma = 0\n",
    "        for j in range(num_wsp): \n",
    "            pkt = np.random.rand(num_wsp)\n",
    "            suma += pkt[j]*pkt[j]\n",
    "        if suma < 1:\n",
    "            c+=1\n",
    "        y = math.sqrt(suma)*R\n",
    "        tab.append(y)\n",
    "        if c==10:\n",
    "            break\n",
    "    tab.sort()\n",
    "    a.append(tab[2])\n",
    "    tab.clear()\n",
    "plt.hist(a,bins=30,range=(0,R),histtype='stepfilled', alpha=0.3, density=True)\n",
    "\n",
    "\n"
   ]
  },
  {
   "cell_type": "code",
   "execution_count": null,
   "id": "6db37203",
   "metadata": {},
   "outputs": [],
   "source": []
  }
 ],
 "metadata": {
  "kernelspec": {
   "display_name": "Python 3 (ipykernel)",
   "language": "python",
   "name": "python3"
  },
  "language_info": {
   "codemirror_mode": {
    "name": "ipython",
    "version": 3
   },
   "file_extension": ".py",
   "mimetype": "text/x-python",
   "name": "python",
   "nbconvert_exporter": "python",
   "pygments_lexer": "ipython3",
   "version": "3.9.12"
  }
 },
 "nbformat": 4,
 "nbformat_minor": 5
}
